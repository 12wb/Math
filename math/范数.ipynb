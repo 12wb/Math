{
 "cells": [
  {
   "cell_type": "markdown",
   "metadata": {},
   "source": [
    "# 向量的范数"
   ]
  },
  {
   "cell_type": "code",
   "execution_count": 13,
   "metadata": {
    "collapsed": true
   },
   "outputs": [],
   "source": [
    "import numpy as np\n",
    "x = np.array([1,0,-2])\n",
    "n0 = np.linalg.norm(x,ord=0)\n",
    "# np.linalg.norm(求范数):linalg=linear（线性）+algebra（代数），norm则表示范数。"
   ]
  },
  {
   "cell_type": "code",
   "execution_count": 14,
   "metadata": {},
   "outputs": [
    {
     "data": {
      "text/plain": [
       "2.0"
      ]
     },
     "execution_count": 14,
     "metadata": {},
     "output_type": "execute_result"
    }
   ],
   "source": [
    "n0"
   ]
  },
  {
   "cell_type": "code",
   "execution_count": 15,
   "metadata": {},
   "outputs": [
    {
     "name": "stdout",
     "output_type": "stream",
     "text": [
      "[[-1  1  0]\n",
      " [-4  3  0]\n",
      " [ 1  0  2]]\n",
      "norm_1   6.0\n"
     ]
    }
   ],
   "source": [
    "# 矩阵的范数\n",
    "#和向量的范数一样，矩阵也有范数，假设矩阵A的大小为m∗n，即m行n列。 1-范数，又名列和范数。顾名思义，即矩阵列向量中绝对值之和的最大值。\n",
    "import numpy as np\n",
    "x = np.array([[-1, 1, 0],[-4, 3, 0],[1, 0, 2]])\n",
    "print(x)\n",
    "n1 = np.linalg.norm(x,ord = 1)\n",
    "print('norm_1  ', n1)"
   ]
  },
  {
   "cell_type": "code",
   "execution_count": 17,
   "metadata": {},
   "outputs": [
    {
     "name": "stdout",
     "output_type": "stream",
     "text": [
      "[[-1  1  0]\n",
      " [-4  3  0]\n",
      " [ 1  0  2]]\n",
      "lambda   [27.71086452  0.03392256  4.25521292]\n",
      "norm_2   5.264110990106893 5.264110990471231\n"
     ]
    }
   ],
   "source": [
    "# 2-范数，又名谱范数，计算方法为ATA矩阵的最大特征值的开平方。\n",
    "\n",
    "# ||A||2=max(λi)−−−−−−−√\n",
    "# 其中，λi 是ATA矩阵的特征值。\n",
    "import numpy as np\n",
    "x = np.array([[-1, 1, 0],[-4, 3, 0],[1, 0, 2]])\n",
    "print(x)\n",
    "xtx = np.matmul(x.T, x)\n",
    "print (\"lambda  \", np.linalg.eigvals(xtx))\n",
    "n2 = np.linalg.norm(x, ord = 2)\n",
    "print ('norm_2  ', n2, np.sqrt(27.71086452))"
   ]
  },
  {
   "cell_type": "code",
   "execution_count": 25,
   "metadata": {
    "scrolled": true
   },
   "outputs": [
    {
     "ename": "SyntaxError",
     "evalue": "invalid syntax (<ipython-input-25-b08fd9825791>, line 2)",
     "output_type": "error",
     "traceback": [
      "\u001b[1;36m  File \u001b[1;32m\"<ipython-input-25-b08fd9825791>\"\u001b[1;36m, line \u001b[1;32m2\u001b[0m\n\u001b[1;33m    i=np.mat(1 2 3;2 3 -5;4 7 1)\u001b[0m\n\u001b[1;37m               ^\u001b[0m\n\u001b[1;31mSyntaxError\u001b[0m\u001b[1;31m:\u001b[0m invalid syntax\n"
     ]
    }
   ],
   "source": [
    "import numpy as np\n",
    "i=np.mat(1 2 3;2 3 -5;4 7 1)\n",
    "np.linalg.matrix_rank(i)"
   ]
  },
  {
   "cell_type": "code",
   "execution_count": null,
   "metadata": {
    "collapsed": true
   },
   "outputs": [],
   "source": []
  },
  {
   "cell_type": "code",
   "execution_count": null,
   "metadata": {
    "collapsed": true
   },
   "outputs": [],
   "source": []
  }
 ],
 "metadata": {
  "kernelspec": {
   "display_name": "Python 3",
   "language": "python",
   "name": "python3"
  },
  "language_info": {
   "codemirror_mode": {
    "name": "ipython",
    "version": 3
   },
   "file_extension": ".py",
   "mimetype": "text/x-python",
   "name": "python",
   "nbconvert_exporter": "python",
   "pygments_lexer": "ipython3",
   "version": "3.6.1"
  }
 },
 "nbformat": 4,
 "nbformat_minor": 2
}
